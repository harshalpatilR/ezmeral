{
 "cells": [
  {
   "cell_type": "code",
   "execution_count": 4,
   "id": "7759d01d-65ad-456c-83fd-6c3a72484d85",
   "metadata": {},
   "outputs": [
    {
     "name": "stdout",
     "output_type": "stream",
     "text": [
      "secret \"spark-s3-secret\" deleted\n",
      "secret/spark-s3-secret created\n",
      "Secret creation successful!\n"
     ]
    }
   ],
   "source": [
    "def deploy_s3_secret(namespace, spark_secret):\n",
    "    try:\n",
    "        #Run kubectl apply command using subprocess\n",
    "        subprocess.run(['kubectl', 'delete', 'secret', spark_secret, '-n', namespace], check=False)\n",
    "        subprocess.run(['kubectl', 'create', 'secret', 'generic', spark_secret, '-n', namespace , '--from-file=spark-defaults.conf'], check=True)\n",
    "        print(\"Secret creation successful!\")\n",
    "    except subprocess.CalledProcessError as e:\n",
    "        print(f\"Secret creation  failed. Error: {e}\")\n",
    "\n",
    "s3_access_data = \"spark.hadoop.fs.s3a.access.key EXAMPLE_ACCESS_KEY\"\n",
    "s3_secret_data = \"spark.hadoop.fs.s3a.secret.key EXAMPLE_SECRET_KEY\"\n",
    "\n",
    "s3_data = s3_access_data.replace('EXAMPLE_ACCESS_KEY', os.environ['AUTH_TOKEN'])\n",
    "s3_data += \"\\n\" + s3_secret_data.replace(\"EXAMPLE_SECRET_KEY\", \"s3\")    \n",
    "\n",
    "#\n",
    "#namespace = os.environ['USER']\n",
    "namespace = \"harshal-5f31cc28\"\n",
    "spark_secret = \"spark-s3-secret\"\n",
    "\n",
    "#Save data to a file spark-defaults.conf\n",
    "with open('spark-defaults.conf', 'w') as file:\n",
    "    file.write(s3_data)\n",
    "\n",
    "# Call the function to deploy the Kubernetes secret\n",
    "deploy_s3_secret(namespace, spark_secret)"
   ]
  },
  {
   "cell_type": "code",
   "execution_count": null,
   "id": "bef0a5d7-d469-495b-9bb9-1806993cc822",
   "metadata": {},
   "outputs": [],
   "source": []
  }
 ],
 "metadata": {
  "kernelspec": {
   "display_name": "Python 3 (ipykernel)",
   "language": "python",
   "name": "python3"
  },
  "language_info": {
   "codemirror_mode": {
    "name": "ipython",
    "version": 3
   },
   "file_extension": ".py",
   "mimetype": "text/x-python",
   "name": "python",
   "nbconvert_exporter": "python",
   "pygments_lexer": "ipython3",
   "version": "3.11.6"
  }
 },
 "nbformat": 4,
 "nbformat_minor": 5
}
