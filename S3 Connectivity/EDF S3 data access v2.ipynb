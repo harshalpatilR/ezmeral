{
 "cells": [
  {
   "cell_type": "code",
   "execution_count": 3,
   "id": "39c43a35-5e1a-4fd5-a1ed-08ab3b5b43f4",
   "metadata": {
    "tags": []
   },
   "outputs": [
    {
     "name": "stdout",
     "output_type": "stream",
     "text": [
      "Token successfully refreshed.\n"
     ]
    }
   ],
   "source": [
    "import boto3\n",
    "import urllib3\n",
    "import boto3\n",
    "import pandas as pd\n",
    "import io\n",
    "urllib3.disable_warnings(urllib3.exceptions.InsecureRequestWarning)\n",
    "\n",
    "%update_token"
   ]
  },
  {
   "cell_type": "code",
   "execution_count": 4,
   "id": "b46da135-a4e5-481e-abd8-7b7dbef73c11",
   "metadata": {
    "tags": []
   },
   "outputs": [
    {
     "name": "stdout",
     "output_type": "stream",
     "text": [
      "Existing buckets:\n",
      "  checkpoints\n",
      "  experiments\n",
      "  icebergdata\n",
      "  processed1\n",
      "  secondbucket\n",
      "  tenanta\n"
     ]
    }
   ],
   "source": [
    "# Retrieve the list of existing buckets\n",
    "#os.environ[\"AWS_ENDPOINT_URL\"] = \"http://external-s3-service.ezdata-system.svc.cluster.local:30000\"\n",
    "os.environ[\"AWS_ENDPOINT_URL\"] = 'http://harshaledf-service.ezdata-system.svc.cluster.local:30000'\n",
    "os.environ['AWS_ACCESS_KEY_ID'] = os.environ['AUTH_TOKEN']\n",
    "os.environ['AWS_SECRET_ACCESS_KEY'] = 's3'\n",
    "s3 = boto3.client(\"s3\", endpoint_url=os.environ[\"AWS_ENDPOINT_URL\"] ,\n",
    "                  aws_access_key_id=os.environ[\"AWS_ACCESS_KEY_ID\"],\n",
    "                  aws_secret_access_key=os.environ['AWS_SECRET_ACCESS_KEY'])\n",
    "response = s3.list_buckets()\n",
    "# Output the bucket names\n",
    "print('Existing buckets:')\n",
    "for bucket in response['Buckets']:\n",
    "    print(f'  {bucket[\"Name\"]}')"
   ]
  },
  {
   "cell_type": "code",
   "execution_count": 5,
   "id": "9a977281-6021-473c-87bf-179824212312",
   "metadata": {
    "tags": []
   },
   "outputs": [
    {
     "name": "stderr",
     "output_type": "stream",
     "text": [
      "Found credentials in environment variables.\n",
      "Found endpoint for s3 via: environment_global.\n"
     ]
    }
   ],
   "source": [
    "# Code to copy finacial.csv from ezua-tutorials to ezaf-demo bucket at data/ for Financial Time Series Example\n",
    "\n",
    "s3 = boto3.client(\"s3\", verify=False)\n",
    "bucket = 'ezaf-demo'\n",
    "source_file = '/mnt/shared/harshal/financial.csv'\n",
    "dest_object = 'data/financial.csv'\n",
    "# Check whether bucket is already created\n",
    "buckets = s3.list_buckets()\n",
    "bucket_exists = False\n",
    "available_buckets = buckets[\"Buckets\"]\n",
    "for available_bucket in available_buckets:\n",
    "    if available_bucket[\"Name\"] == bucket:\n",
    "        bucket_exists = True\n",
    "        break\n",
    "# Create bucket if not exists\n",
    "if not bucket_exists:\n",
    "    s3.create_bucket(Bucket=bucket)\n",
    "# Upload file\n",
    "s3.upload_file(Filename=source_file, Bucket=bucket, Key=dest_object) "
   ]
  },
  {
   "cell_type": "code",
   "execution_count": 6,
   "id": "03df502c-094f-4b20-b3be-2f429ef1d1bd",
   "metadata": {
    "tags": []
   },
   "outputs": [],
   "source": [
    "xobject = s3.get_object(Bucket='ezaf-demo',Key='data/financial.csv')\n",
    "df = pd.read_csv(io.StringIO(xobject[\"Body\"].read().decode('utf-8')))"
   ]
  },
  {
   "cell_type": "code",
   "execution_count": 7,
   "id": "20065931-308b-4a42-b248-8a601147203a",
   "metadata": {
    "tags": []
   },
   "outputs": [
    {
     "data": {
      "text/html": [
       "<div>\n",
       "<style scoped>\n",
       "    .dataframe tbody tr th:only-of-type {\n",
       "        vertical-align: middle;\n",
       "    }\n",
       "\n",
       "    .dataframe tbody tr th {\n",
       "        vertical-align: top;\n",
       "    }\n",
       "\n",
       "    .dataframe thead th {\n",
       "        text-align: right;\n",
       "    }\n",
       "</style>\n",
       "<table border=\"1\" class=\"dataframe\">\n",
       "  <thead>\n",
       "    <tr style=\"text-align: right;\">\n",
       "      <th></th>\n",
       "      <th>snp_close</th>\n",
       "      <th>nyse_close</th>\n",
       "      <th>djia_close</th>\n",
       "      <th>nikkei_close</th>\n",
       "      <th>hangseng_close</th>\n",
       "      <th>ftse_close</th>\n",
       "      <th>dax_close</th>\n",
       "      <th>aord_close</th>\n",
       "    </tr>\n",
       "  </thead>\n",
       "  <tbody>\n",
       "    <tr>\n",
       "      <th>0</th>\n",
       "      <td>2098.120117</td>\n",
       "      <td>11112.169922</td>\n",
       "      <td>18067.230469</td>\n",
       "      <td>19623.839844</td>\n",
       "      <td>27406.179688</td>\n",
       "      <td>6932.799805</td>\n",
       "      <td>11471.410156</td>\n",
       "      <td>5672.100098</td>\n",
       "    </tr>\n",
       "    <tr>\n",
       "      <th>1</th>\n",
       "      <td>1413.199951</td>\n",
       "      <td>8233.910156</td>\n",
       "      <td>13092.160156</td>\n",
       "      <td>9050.219727</td>\n",
       "      <td>22110.330078</td>\n",
       "      <td>5867.600098</td>\n",
       "      <td>7362.850098</td>\n",
       "      <td>4482.299805</td>\n",
       "    </tr>\n",
       "    <tr>\n",
       "      <th>2</th>\n",
       "      <td>1856.619995</td>\n",
       "      <td>10433.870117</td>\n",
       "      <td>16322.059570</td>\n",
       "      <td>14695.030273</td>\n",
       "      <td>22064.529297</td>\n",
       "      <td>6614.600098</td>\n",
       "      <td>9586.190430</td>\n",
       "      <td>5375.799805</td>\n",
       "    </tr>\n",
       "    <tr>\n",
       "      <th>3</th>\n",
       "      <td>1140.199951</td>\n",
       "      <td>7280.069824</td>\n",
       "      <td>10787.049805</td>\n",
       "      <td>9368.349609</td>\n",
       "      <td>22357.169922</td>\n",
       "      <td>5547.600098</td>\n",
       "      <td>6228.020020</td>\n",
       "      <td>4635.899902</td>\n",
       "    </tr>\n",
       "    <tr>\n",
       "      <th>4</th>\n",
       "      <td>2106.959961</td>\n",
       "      <td>11143.450195</td>\n",
       "      <td>18037.269531</td>\n",
       "      <td>20132.900391</td>\n",
       "      <td>27932.849609</td>\n",
       "      <td>7027.200195</td>\n",
       "      <td>11866.370117</td>\n",
       "      <td>5811.799805</td>\n",
       "    </tr>\n",
       "  </tbody>\n",
       "</table>\n",
       "</div>"
      ],
      "text/plain": [
       "     snp_close    nyse_close    djia_close  nikkei_close  hangseng_close  \\\n",
       "0  2098.120117  11112.169922  18067.230469  19623.839844    27406.179688   \n",
       "1  1413.199951   8233.910156  13092.160156   9050.219727    22110.330078   \n",
       "2  1856.619995  10433.870117  16322.059570  14695.030273    22064.529297   \n",
       "3  1140.199951   7280.069824  10787.049805   9368.349609    22357.169922   \n",
       "4  2106.959961  11143.450195  18037.269531  20132.900391    27932.849609   \n",
       "\n",
       "    ftse_close     dax_close   aord_close  \n",
       "0  6932.799805  11471.410156  5672.100098  \n",
       "1  5867.600098   7362.850098  4482.299805  \n",
       "2  6614.600098   9586.190430  5375.799805  \n",
       "3  5547.600098   6228.020020  4635.899902  \n",
       "4  7027.200195  11866.370117  5811.799805  "
      ]
     },
     "execution_count": 7,
     "metadata": {},
     "output_type": "execute_result"
    }
   ],
   "source": [
    "df.head()"
   ]
  },
  {
   "cell_type": "code",
   "execution_count": 9,
   "id": "d808ff4f-b571-4543-868c-e19aac49850d",
   "metadata": {
    "tags": []
   },
   "outputs": [],
   "source": [
    "#add S3 secret for Spark \n",
    "import kfp\n",
    "kfp_client = kfp.Client()\n",
    "namespace = kfp_client.get_user_namespace()\n",
    "!sed -e \"s/\\$AUTH_TOKEN/$AUTH_TOKEN/\" /mnt/shared/harshal/object_store_secret.yaml.tpl > /mnt/shared/harshal/object_store_secret.yaml\n"
   ]
  },
  {
   "cell_type": "code",
   "execution_count": 11,
   "id": "380cfaf6-7f96-47be-8969-a3383ceecf1d",
   "metadata": {
    "tags": []
   },
   "outputs": [
    {
     "name": "stdout",
     "output_type": "stream",
     "text": [
      "secret/spark-s3-creds created\n"
     ]
    }
   ],
   "source": [
    "!kubectl apply -f /mnt/shared/harshal/object_store_secret.yaml"
   ]
  },
  {
   "cell_type": "code",
   "execution_count": null,
   "id": "bde4c69d-c914-4c41-9cfc-234de42c5a59",
   "metadata": {},
   "outputs": [],
   "source": []
  }
 ],
 "metadata": {
  "kernelspec": {
   "display_name": "Python 3 (ipykernel)",
   "language": "python",
   "name": "python3"
  },
  "kubeflow_notebook": {
   "autosnapshot": false,
   "docker_image": "gcr.io/mapr-252711/kubeflow/notebooks/jupyter-data-science:ezua-1.4.0-aff5aff5",
   "experiment": {
    "id": "",
    "name": ""
   },
   "experiment_name": "",
   "katib_run": false,
   "pipeline_description": "",
   "pipeline_name": "",
   "snapshot_volumes": false,
   "steps_defaults": [
    "label:access-ml-pipeline:true",
    "label:add-ldapcert-secret:true",
    "label:add-sssd-secret:true"
   ],
   "volume_access_mode": "rwm",
   "volumes": []
  },
  "language_info": {
   "codemirror_mode": {
    "name": "ipython",
    "version": 3
   },
   "file_extension": ".py",
   "mimetype": "text/x-python",
   "name": "python",
   "nbconvert_exporter": "python",
   "pygments_lexer": "ipython3",
   "version": "3.11.6"
  }
 },
 "nbformat": 4,
 "nbformat_minor": 5
}
