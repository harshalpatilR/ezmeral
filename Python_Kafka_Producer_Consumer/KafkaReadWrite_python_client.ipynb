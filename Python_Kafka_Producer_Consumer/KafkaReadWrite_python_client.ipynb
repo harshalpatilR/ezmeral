{
 "cells": [
  {
   "cell_type": "code",
   "execution_count": 16,
   "id": "e2dee8b6-3fba-4203-bf82-6df4bf6d7c25",
   "metadata": {
    "tags": []
   },
   "outputs": [],
   "source": [
    "#!pip install kafka-python\n",
    "#!pip install faker\n",
    "# currently using kafka-python-2.0.2, Faker-28.0.0\n",
    "from kafka import KafkaProducer\n",
    "from kafka import KafkaConsumer\n",
    "import sys\n",
    "import time\n",
    "import random\n",
    "import json\n",
    "import pandas as pd\n",
    "import pyarrow as pa\n",
    "import pyarrow.parquet as pq\n",
    "import datetime as tm\n",
    "from faker import Faker"
   ]
  },
  {
   "cell_type": "code",
   "execution_count": 17,
   "id": "c1061c41-64e6-4616-8141-ffec5d218a30",
   "metadata": {
    "tags": []
   },
   "outputs": [
    {
     "name": "stdout",
     "output_type": "stream",
     "text": [
      "BROKER: 13.215.254.242:9092\n",
      "TOPIC: freshtopic\n"
     ]
    }
   ],
   "source": [
    "#Kafka source details - this is for EDF Kafka Wire Protocol - so the broker is where Data Access Gateway is running and its port\n",
    "server = \"13.215.254.242:9092\"\n",
    "topic = \"freshtopic\"\n",
    "print(\"BROKER: \" + server)\n",
    "print(\"TOPIC: \" + topic)"
   ]
  },
  {
   "cell_type": "code",
   "execution_count": 18,
   "id": "7c03f47d-313e-48ec-85f1-e82ece95fa4a",
   "metadata": {
    "tags": []
   },
   "outputs": [
    {
     "name": "stderr",
     "output_type": "stream",
     "text": [
      "<BrokerConnection node_id=bootstrap-0 host=13.215.254.242:9092 <connecting> [IPv4 ('13.215.254.242', 9092)]>: connecting to 13.215.254.242:9092 [('13.215.254.242', 9092) IPv4]\n",
      "Probing node bootstrap-0 broker version\n",
      "<BrokerConnection node_id=bootstrap-0 host=13.215.254.242:9092 <connecting> [IPv4 ('13.215.254.242', 9092)]>: Connection complete.\n",
      "Broker version identified as 2.5.0\n",
      "Set configuration api_version=(2, 5, 0) to skip auto check_version requests on startup\n",
      "<BrokerConnection node_id=0 host=13.215.254.242:9092 <connected> [IPv4 ('13.215.254.242', 9092)]>: Closing connection. \n"
     ]
    },
    {
     "name": "stdout",
     "output_type": "stream",
     "text": [
      "\n",
      "**Starting Producer**\n"
     ]
    }
   ],
   "source": [
    "# this API call will change based on the actual Kafka broker \n",
    "#PRODUCER\n",
    "print(\"\\n**Starting Producer**\")\n",
    "producer=KafkaProducer(bootstrap_servers=[server],\n",
    "#                        security_protocol='SASL_PLAINTEXT',\n",
    "#                        sasl_mechanism='PLAIN',\n",
    "#                        sasl_plain_username='mapr',\n",
    "#                        sasl_plain_password='mapr'\n",
    "                      )"
   ]
  },
  {
   "cell_type": "code",
   "execution_count": 19,
   "id": "27264a31-a36f-4103-8d60-20fa53f36279",
   "metadata": {
    "tags": []
   },
   "outputs": [
    {
     "name": "stderr",
     "output_type": "stream",
     "text": [
      "<BrokerConnection node_id=0 host=13.215.254.242:9092 <connecting> [IPv4 ('13.215.254.242', 9092)]>: connecting to 13.215.254.242:9092 [('13.215.254.242', 9092) IPv4]\n",
      "<BrokerConnection node_id=0 host=13.215.254.242:9092 <connecting> [IPv4 ('13.215.254.242', 9092)]>: Connection complete.\n",
      "<BrokerConnection node_id=bootstrap-0 host=13.215.254.242:9092 <connected> [IPv4 ('13.215.254.242', 9092)]>: Closing connection. \n"
     ]
    },
    {
     "name": "stdout",
     "output_type": "stream",
     "text": [
      "{'id': 67833, 'name': 'David Nelson', 'address': '979 Deborah Tunnel\\nFryeland, HI 19406', 'amount': 768480}\n",
      "{'id': 9792, 'name': 'Kathryn Cole', 'address': '1950 Anna Gardens\\nMeganfurt, GA 46532', 'amount': 765697}\n",
      "{'id': 38432, 'name': 'Gregory Garcia', 'address': '024 Amy Unions\\nSusanview, NH 86239', 'amount': 665433}\n",
      "{'id': 16873, 'name': 'Morgan Patterson', 'address': '9113 Brad Villages\\nNorth Timothyport, NH 11206', 'amount': 890315}\n",
      "{'id': 78792, 'name': 'Kendra Zimmerman', 'address': '8303 Jennifer Extension Suite 675\\nLunahaven, NC 86908', 'amount': 37866}\n",
      "{'id': 50180, 'name': 'Anthony Rogers', 'address': '6435 James Ports\\nJeffreychester, DE 94668', 'amount': 54116}\n",
      "{'id': 59099, 'name': 'Christine Webster', 'address': '3150 Brown Vista Apt. 801\\nCourtneyborough, KS 11777', 'amount': 405119}\n",
      "{'id': 32972, 'name': 'Brenda Flores', 'address': '64859 Danielle Viaduct Suite 091\\nRileyfort, KS 41645', 'amount': 908732}\n",
      "{'id': 94368, 'name': 'Laura Brewer', 'address': '5496 Ray Gardens\\nNew Davidview, NH 28324', 'amount': 893884}\n",
      "{'id': 99317, 'name': 'Matthew Lewis', 'address': '378 Jordan Tunnel\\nKennedyview, AL 74440', 'amount': 432706}\n",
      "{'id': 60623, 'name': 'Roger Marks', 'address': '01405 Daniel Centers Suite 619\\nRobertfort, IA 73032', 'amount': 386111}\n",
      "{'id': 3152, 'name': 'Mrs. Candice Harris', 'address': '910 Diana Court\\nSouth Charlesport, CT 20963', 'amount': 442793}\n",
      "{'id': 54200, 'name': 'Zoe Thomas', 'address': '1979 Rodriguez Cliff\\nCharleschester, MO 84523', 'amount': 251446}\n",
      "{'id': 27848, 'name': 'Roberto Parker', 'address': '26757 Katie Pine\\nSouth Dustin, DE 69799', 'amount': 185500}\n",
      "{'id': 2069, 'name': 'Susan Jones', 'address': '1285 Kristina Plains Suite 164\\nNew Lindseybury, OR 11333', 'amount': 904561}\n",
      "{'id': 91444, 'name': 'Andrea Lee', 'address': '424 Amber Mission Suite 977\\nMartinezborough, GU 53326', 'amount': 609792}\n",
      "{'id': 44800, 'name': 'Bailey Davis', 'address': '540 Katherine Harbors\\nJuliemouth, PW 35976', 'amount': 202362}\n",
      "{'id': 77336, 'name': 'Patricia Williams', 'address': '28271 Daniel Course\\nSanchezview, IA 79040', 'amount': 732496}\n",
      "{'id': 92030, 'name': 'Margaret Contreras', 'address': '3463 Mullen Parks Apt. 692\\nLake Alexandrashire, TN 78814', 'amount': 176457}\n",
      "{'id': 47739, 'name': 'Karen Newton', 'address': '40502 Jason Hill\\nHendrickstown, MS 10967', 'amount': 678650}\n",
      "{'id': 16652, 'name': 'Sheila Byrd', 'address': '71152 Ochoa Trace Apt. 188\\nCatherineview, GU 55755', 'amount': 239693}\n",
      "{'id': 85392, 'name': 'Jessica Hughes', 'address': '7859 Emily Centers\\nRebeccatown, IL 19996', 'amount': 730070}\n",
      "{'id': 60790, 'name': 'Brad Adams', 'address': '969 Evans Causeway\\nEmilyborough, ID 94128', 'amount': 131736}\n",
      "{'id': 46869, 'name': 'William Morris', 'address': 'Unit 4599 Box 4193\\nDPO AA 43499', 'amount': 90383}\n",
      "{'id': 44473, 'name': 'Mrs. Kimberly Davis', 'address': '769 Cunningham Drives\\nChristopherport, LA 24132', 'amount': 609196}\n",
      "{'id': 52823, 'name': 'Kristopher Meyer', 'address': '8018 Torres Ferry Apt. 654\\nReynoldsborough, DE 29552', 'amount': 497023}\n",
      "{'id': 31257, 'name': 'Brandi Dickson', 'address': '33389 Roger Crest\\nSmithchester, TX 54638', 'amount': 903540}\n",
      "{'id': 32678, 'name': 'Monica Anderson', 'address': '05133 Scott Street\\nLake Carolynhaven, ND 04436', 'amount': 394906}\n",
      "{'id': 28398, 'name': 'Christine Brown', 'address': '8603 Alyssa Inlet Suite 988\\nNorth Brianland, OR 96826', 'amount': 605350}\n",
      "{'id': 45562, 'name': 'Darren Jackson', 'address': 'Unit 7850 Box 1035\\nDPO AA 60753', 'amount': 416622}\n",
      "{'id': 57115, 'name': 'Kathy Hamilton', 'address': '9493 Catherine Unions Apt. 915\\nNew Scott, IN 40286', 'amount': 416559}\n",
      "{'id': 97888, 'name': 'Taylor Mcdaniel', 'address': '21242 Ashlee Summit Suite 499\\nAndrewhaven, KS 56760', 'amount': 591021}\n",
      "{'id': 75380, 'name': 'Charles Ruiz', 'address': '2555 Peterson Brooks Suite 322\\nJoshuaport, GA 42509', 'amount': 140239}\n",
      "{'id': 12782, 'name': 'Kathy Landry', 'address': '65744 Jennifer Glens Apt. 110\\nDonovantown, WA 03234', 'amount': 543710}\n",
      "{'id': 67415, 'name': 'Donald Harrison', 'address': '86069 Smith Ports\\nRandallside, ID 05442', 'amount': 538267}\n",
      "{'id': 2982, 'name': 'Stephanie Burch', 'address': '23151 Amanda Throughway\\nLake Joshua, VA 52848', 'amount': 969852}\n",
      "{'id': 91921, 'name': 'Timothy Cortez', 'address': '303 Wright Mission Suite 600\\nBentonmouth, MP 53419', 'amount': 835021}\n",
      "{'id': 63643, 'name': 'Daniel Larson', 'address': '87103 Troy Mountain\\nNicholasberg, AR 46214', 'amount': 393726}\n",
      "{'id': 44965, 'name': 'Christopher Myers', 'address': '4020 Larsen Prairie\\nEast Amandaborough, IL 63981', 'amount': 623156}\n",
      "{'id': 49174, 'name': 'Gregory Solis', 'address': '3025 Roger Village\\nFletcherberg, TX 88416', 'amount': 715777}\n",
      "{'id': 76166, 'name': 'Mrs. Nina Martinez DDS', 'address': '0261 Corey Isle Apt. 528\\nShawnburgh, NC 33207', 'amount': 361519}\n",
      "{'id': 46643, 'name': 'Jessica Shelton', 'address': '6853 Thomas River Apt. 226\\nReidport, OH 39541', 'amount': 372234}\n",
      "{'id': 24320, 'name': 'James Brown', 'address': 'PSC 9454, Box 4596\\nAPO AE 75526', 'amount': 211953}\n",
      "{'id': 11802, 'name': 'Debbie Gross', 'address': '286 Moon Brook Suite 468\\nLake Becky, WV 56835', 'amount': 820426}\n",
      "{'id': 50854, 'name': 'Michael Baker', 'address': '65185 Jennifer Mountains Suite 353\\nAlexanderborough, ND 34012', 'amount': 824083}\n",
      "{'id': 87588, 'name': 'Leslie Morton', 'address': '775 Nicole Plains\\nWest Tanyahaven, NH 89947', 'amount': 902293}\n",
      "{'id': 78839, 'name': 'Thomas Vasquez', 'address': '0446 Luis Manor\\nPearsonshire, FM 61253', 'amount': 885790}\n",
      "{'id': 12339, 'name': 'Ashlee Allen', 'address': '5551 Ortiz Coves\\nBarrystad, SD 14085', 'amount': 824990}\n",
      "{'id': 2974, 'name': 'Bryan Phillips', 'address': '6399 Theodore Ridges Suite 699\\nAdamton, NC 64942', 'amount': 903615}\n",
      "{'id': 73167, 'name': 'Kathryn Gonzalez', 'address': '5751 Sanchez Row\\nPort Brentberg, WV 93780', 'amount': 751342}\n",
      "{'id': 70645, 'name': 'Melissa Ross', 'address': '46808 Timothy Estates\\nNorth Jorgemouth, WA 38624', 'amount': 948469}\n",
      "{'id': 37228, 'name': 'Paige Watts', 'address': '228 Timothy Oval Apt. 223\\nNew Tyler, CO 31367', 'amount': 587644}\n",
      "{'id': 59873, 'name': 'Michael Logan', 'address': '9287 Ortega Isle\\nBrandonside, IL 84543', 'amount': 377381}\n",
      "{'id': 87377, 'name': 'Ashley Jimenez', 'address': 'Unit 2473 Box 9573\\nDPO AP 82693', 'amount': 392239}\n",
      "{'id': 79258, 'name': 'Stephanie Hill', 'address': '6758 James Plain\\nJosephport, DC 25333', 'amount': 27493}\n",
      "{'id': 49392, 'name': 'Christopher Foster', 'address': '564 Christina Springs Suite 530\\nPort Juan, IA 32314', 'amount': 640637}\n",
      "{'id': 77580, 'name': 'Becky Peters', 'address': '972 Lisa Union Apt. 044\\nPort Rodneymouth, DC 11665', 'amount': 894918}\n",
      "{'id': 36287, 'name': 'Albert Arias MD', 'address': 'Unit 1563 Box 4331\\nDPO AA 26131', 'amount': 238317}\n",
      "{'id': 46817, 'name': 'Jessica Sullivan', 'address': 'PSC 7674, Box 9600\\nAPO AE 04511', 'amount': 372857}\n",
      "{'id': 29149, 'name': 'Christina Reynolds', 'address': '66732 Savannah Corner\\nNicoleside, SD 95602', 'amount': 74749}\n",
      "{'id': 28012, 'name': 'Jamie Forbes', 'address': '247 Levy Well\\nChasemouth, ME 32030', 'amount': 423783}\n",
      "{'id': 2040, 'name': 'Samuel Aguilar', 'address': '02559 Lee Meadows Apt. 895\\nWest Tina, MS 80687', 'amount': 311742}\n",
      "{'id': 47700, 'name': 'Kayla Bartlett', 'address': '57929 Sanchez Court\\nMeganborough, HI 15797', 'amount': 852852}\n",
      "{'id': 31509, 'name': 'Nicholas Kelley', 'address': '589 Wendy Walk\\nNorth Greg, CA 53897', 'amount': 657678}\n",
      "{'id': 56490, 'name': 'Brittany Doyle', 'address': '47916 Robert Burgs Apt. 438\\nSweeneymouth, MA 86128', 'amount': 379903}\n",
      "{'id': 2430, 'name': 'Samantha Mcgee', 'address': '13323 Thomas Fort Apt. 156\\nSouth Davidbury, AZ 96973', 'amount': 464055}\n",
      "{'id': 85213, 'name': 'Ronald Anderson', 'address': '319 Ashley Inlet Suite 919\\nJasonfurt, PR 24630', 'amount': 678031}\n",
      "{'id': 18176, 'name': 'Leah Johnson', 'address': 'PSC 8718, Box 0955\\nAPO AA 22127', 'amount': 298006}\n",
      "{'id': 15507, 'name': 'Patrick Waters', 'address': '80452 Benjamin Corner Apt. 271\\nMatthewtown, CA 45532', 'amount': 68213}\n",
      "{'id': 4630, 'name': 'Donna Rodriguez', 'address': '800 Matthew Harbors\\nPort Katie, VA 33372', 'amount': 65023}\n",
      "{'id': 21505, 'name': 'Margaret Morales', 'address': '810 Katherine Meadow\\nPort Gregory, WA 27907', 'amount': 536982}\n",
      "{'id': 3552, 'name': 'Hannah Long', 'address': '1355 Bean Camp\\nWilliamsborough, NE 66137', 'amount': 360224}\n",
      "{'id': 35673, 'name': 'Eric Ho DDS', 'address': 'Unit 2457 Box 4572\\nDPO AA 01097', 'amount': 983927}\n",
      "{'id': 53253, 'name': 'Courtney Coleman', 'address': '12751 Ingram Walks Suite 744\\nPattersonport, WY 84390', 'amount': 175775}\n",
      "{'id': 74371, 'name': 'Jaime Walton', 'address': '70620 Kenneth Road Suite 527\\nLynchbury, WV 43349', 'amount': 74172}\n",
      "{'id': 68148, 'name': 'Troy Sherman', 'address': '3797 Ruiz Point\\nEast Sarah, PW 99829', 'amount': 970907}\n",
      "{'id': 97216, 'name': 'Shawn Horn', 'address': '186 Vasquez Parkways\\nPort Martha, MH 87927', 'amount': 629612}\n",
      "{'id': 96588, 'name': 'Allen Gillespie', 'address': '4074 Mann Harbor\\nFisherside, AZ 33648', 'amount': 971917}\n",
      "{'id': 50700, 'name': 'Bill Hunt', 'address': 'PSC 1166, Box 5755\\nAPO AA 99879', 'amount': 538107}\n",
      "{'id': 97469, 'name': 'Douglas Hill', 'address': 'PSC 3060, Box 4033\\nAPO AE 58231', 'amount': 522667}\n",
      "{'id': 36571, 'name': 'Ricky Jackson', 'address': '280 Foley Knolls\\nNorth Margaretstad, SC 62450', 'amount': 583475}\n",
      "{'id': 38168, 'name': 'Kari Roth', 'address': '895 Vargas Square Suite 336\\nWest Vernonmouth, PA 87913', 'amount': 8801}\n",
      "{'id': 85516, 'name': 'Brent Glass MD', 'address': '70521 Santana Neck Apt. 574\\nJonathanburgh, NY 15437', 'amount': 227387}\n",
      "{'id': 88605, 'name': 'Allison Quinn', 'address': '94259 Melissa Flat\\nBrittneyborough, AL 15000', 'amount': 59028}\n",
      "{'id': 4718, 'name': 'Wendy Short', 'address': '4304 Collins Circles\\nWest William, SC 97958', 'amount': 957697}\n",
      "{'id': 12976, 'name': 'Patricia Allen', 'address': '7988 James Dale\\nMartinshire, CA 43114', 'amount': 74249}\n",
      "{'id': 82931, 'name': 'Christian Price', 'address': '422 Perez Green\\nPort Christinabury, ND 18250', 'amount': 272878}\n",
      "{'id': 11209, 'name': 'Gabriel Brown', 'address': '13351 Norris Walk Suite 783\\nThomastown, OR 97070', 'amount': 464667}\n",
      "{'id': 67543, 'name': 'Summer Brown', 'address': '3066 Sarah Fork Apt. 938\\nPort Brandonland, CA 44566', 'amount': 581876}\n",
      "{'id': 42813, 'name': 'Sharon Guerra', 'address': 'Unit 9531 Box 6701\\nDPO AA 41663', 'amount': 120971}\n",
      "{'id': 60368, 'name': 'Nicholas Ballard', 'address': '433 Simmons Land\\nCarterstad, TN 12152', 'amount': 353177}\n",
      "{'id': 4738, 'name': 'Kelly Frederick', 'address': '5587 Rogers Hills\\nBrandonville, MT 54629', 'amount': 316485}\n",
      "{'id': 31622, 'name': 'Bradley Payne', 'address': '584 Danielle Street\\nMasonshire, MS 54319', 'amount': 900046}\n",
      "{'id': 45448, 'name': 'Caleb Leonard', 'address': '44433 Brent Meadow\\nWest Dennis, KS 28354', 'amount': 881786}\n",
      "{'id': 53303, 'name': 'Allison Nielsen', 'address': '1959 Holly Pike Apt. 745\\nPort Richard, AZ 07109', 'amount': 239153}\n",
      "{'id': 10851, 'name': 'Timothy English', 'address': '90656 Nancy Via Apt. 966\\nNew Allenstad, NJ 62515', 'amount': 336032}\n",
      "{'id': 42734, 'name': 'Derek Conner', 'address': '20493 Carol Estate Apt. 366\\nLake Lori, VT 14884', 'amount': 711358}\n",
      "{'id': 3839, 'name': 'Shane Sanchez', 'address': '6845 Marissa Canyon Apt. 372\\nSouth Denisefurt, UT 49946', 'amount': 27749}\n",
      "{'id': 35101, 'name': 'Jennifer Hall', 'address': '0828 Mark Station\\nContrerasville, UT 73457', 'amount': 211543}\n",
      "{'id': 44979, 'name': 'Mark Aguilar', 'address': '150 Elliott Mission Suite 335\\nPort Deanna, NJ 22134', 'amount': 167888}\n",
      "Messages produced: 100\n"
     ]
    }
   ],
   "source": [
    "numMsgProduced = 0\n",
    "fake = Faker()\n",
    "for h in range(100):\n",
    "    record = {\n",
    "        \"id\": h+random.randint(1,100000),\n",
    "        \"name\": fake.name(),\n",
    "        \"address\": fake.address(),\n",
    "        \"amount\": random.randint(1,1000000)\n",
    "    }\n",
    "    print(record)\n",
    "    producer.send(topic, json.dumps(record).encode('utf-8'))\n",
    "    numMsgProduced += 1\n",
    "producer.flush()\n",
    "print(\"Messages produced: \" + str(numMsgProduced))\n",
    "time.sleep(2)"
   ]
  },
  {
   "cell_type": "code",
   "execution_count": 7,
   "id": "34b8170f-4a2f-47e9-ab11-6c156959ec15",
   "metadata": {
    "tags": []
   },
   "outputs": [],
   "source": [
    "# this will keep track of records read and will ignore them in re-reading data\n",
    "# Do NOT run this cell unless you want to go back to beginning for ingestion\n",
    "consumer_offset = -1"
   ]
  },
  {
   "cell_type": "code",
   "execution_count": 8,
   "id": "7d355dd8-976e-46aa-8889-10da306ecba6",
   "metadata": {
    "tags": []
   },
   "outputs": [],
   "source": [
    "#list of records received\n",
    "fullrecords=[]\n",
    "datarecords=[]"
   ]
  },
  {
   "cell_type": "code",
   "execution_count": 20,
   "id": "0da02127-f96f-4f2c-a8a7-25492c2c6b7e",
   "metadata": {
    "tags": []
   },
   "outputs": [
    {
     "name": "stderr",
     "output_type": "stream",
     "text": [
      "<BrokerConnection node_id=bootstrap-0 host=13.215.254.242:9092 <connecting> [IPv4 ('13.215.254.242', 9092)]>: connecting to 13.215.254.242:9092 [('13.215.254.242', 9092) IPv4]\n",
      "Probing node bootstrap-0 broker version\n",
      "<BrokerConnection node_id=bootstrap-0 host=13.215.254.242:9092 <connecting> [IPv4 ('13.215.254.242', 9092)]>: Connection complete.\n",
      "Broker version identified as 2.5.0\n",
      "Set configuration api_version=(2, 5, 0) to skip auto check_version requests on startup\n",
      "group_id is None: disabling auto-commit.\n",
      "Updating subscribed topics to: ['freshtopic']\n",
      "Updated partition assignment: [TopicPartition(topic='freshtopic', partition=0)]\n",
      "<BrokerConnection node_id=0 host=13.215.254.242:9092 <connecting> [IPv4 ('13.215.254.242', 9092)]>: connecting to 13.215.254.242:9092 [('13.215.254.242', 9092) IPv4]\n",
      "<BrokerConnection node_id=0 host=13.215.254.242:9092 <connecting> [IPv4 ('13.215.254.242', 9092)]>: Connection complete.\n",
      "<BrokerConnection node_id=bootstrap-0 host=13.215.254.242:9092 <connected> [IPv4 ('13.215.254.242', 9092)]>: Closing connection. \n"
     ]
    },
    {
     "name": "stdout",
     "output_type": "stream",
     "text": [
      "\n",
      "**Starting Consumer**\n",
      "Offset: 0 Already consumed\n",
      "Offset: 1 Already consumed\n",
      "Offset: 2 Already consumed\n",
      "Offset: 3 Already consumed\n",
      "Offset: 4 Already consumed\n",
      "Offset: 5 Already consumed\n",
      "Offset: 6 Already consumed\n",
      "Offset: 7 Already consumed\n",
      "Offset: 8 Already consumed\n",
      "Offset: 9 Already consumed\n",
      "Offset: 10 Already consumed\n",
      "Offset: 11 Already consumed\n",
      "Offset: 12 Already consumed\n",
      "Offset: 13 Already consumed\n",
      "Offset: 14 Already consumed\n",
      "Offset: 15 Already consumed\n",
      "Offset: 16 Already consumed\n",
      "Offset: 17 Already consumed\n",
      "Offset: 18 Already consumed\n",
      "Offset: 19 Already consumed\n",
      "Offset: 20 Already consumed\n",
      "Offset: 21 Already consumed\n",
      "Offset: 22 Already consumed\n",
      "Offset: 23 Already consumed\n",
      "Offset: 24 Already consumed\n",
      "Offset: 25 Already consumed\n",
      "Offset: 26 Already consumed\n",
      "Offset: 27 Already consumed\n",
      "Offset: 28 Already consumed\n",
      "Offset: 29 Already consumed\n",
      "Offset: 30 Already consumed\n",
      "Offset: 31 Already consumed\n",
      "Offset: 32 Already consumed\n",
      "Offset: 33 Already consumed\n",
      "Offset: 34 Already consumed\n",
      "Offset: 35 Already consumed\n",
      "Offset: 36 Already consumed\n",
      "Offset: 37 Already consumed\n",
      "Offset: 38 Already consumed\n",
      "Offset: 39 Already consumed\n",
      "Offset: 40 Already consumed\n",
      "Offset: 41 Already consumed\n",
      "Offset: 42 Already consumed\n",
      "Offset: 43 Already consumed\n",
      "Offset: 44 Already consumed\n",
      "Offset: 45 Already consumed\n",
      "Offset: 46 Already consumed\n",
      "Offset: 47 Already consumed\n",
      "Offset: 48 Already consumed\n",
      "Offset: 49 Already consumed\n",
      "Offset: 50 Already consumed\n",
      "Offset: 51 Already consumed\n",
      "Offset: 52 Already consumed\n",
      "Offset: 53 Already consumed\n",
      "Offset: 54 Already consumed\n",
      "Offset: 55 Already consumed\n",
      "Offset: 56 Already consumed\n",
      "Offset: 57 Already consumed\n",
      "Offset: 58 Already consumed\n",
      "Offset: 59 Already consumed\n",
      "Offset: 60 Already consumed\n",
      "Offset: 61 Already consumed\n",
      "Offset: 62 Already consumed\n",
      "Offset: 63 Already consumed\n",
      "Offset: 64 Already consumed\n",
      "Offset: 65 Already consumed\n",
      "Offset: 66 Already consumed\n",
      "Offset: 67 Already consumed\n",
      "Offset: 68 Already consumed\n",
      "Offset: 69 Already consumed\n",
      "Offset: 70 Already consumed\n",
      "Offset: 71 Already consumed\n",
      "Offset: 72 Already consumed\n",
      "Offset: 73 Already consumed\n",
      "Offset: 74 Already consumed\n",
      "Offset: 75 Already consumed\n",
      "Offset: 76 Already consumed\n",
      "Offset: 77 Already consumed\n",
      "Offset: 78 Already consumed\n",
      "Offset: 79 Already consumed\n",
      "Offset: 80 Already consumed\n",
      "Offset: 81 Already consumed\n",
      "Offset: 82 Already consumed\n",
      "Offset: 83 Already consumed\n",
      "Offset: 84 Already consumed\n",
      "Offset: 85 Already consumed\n",
      "Offset: 86 Already consumed\n",
      "Offset: 87 Already consumed\n",
      "Offset: 88 Already consumed\n",
      "Offset: 89 Already consumed\n",
      "Offset: 90 Already consumed\n",
      "Offset: 91 Already consumed\n",
      "Offset: 92 Already consumed\n",
      "Offset: 93 Already consumed\n",
      "Offset: 94 Already consumed\n",
      "Offset: 95 Already consumed\n",
      "Offset: 96 Already consumed\n",
      "Offset: 97 Already consumed\n",
      "Offset: 98 Already consumed\n",
      "Offset: 99 Already consumed\n",
      "Offset: 100  Received message: {\"id\": 67833, \"name\": \"David Nelson\", \"address\": \"979 Deborah Tunnel\\nFryeland, HI 19406\", \"amount\": 768480}\n",
      "Offset: 101  Received message: {\"id\": 9792, \"name\": \"Kathryn Cole\", \"address\": \"1950 Anna Gardens\\nMeganfurt, GA 46532\", \"amount\": 765697}\n",
      "Offset: 102  Received message: {\"id\": 38432, \"name\": \"Gregory Garcia\", \"address\": \"024 Amy Unions\\nSusanview, NH 86239\", \"amount\": 665433}\n",
      "Offset: 103  Received message: {\"id\": 16873, \"name\": \"Morgan Patterson\", \"address\": \"9113 Brad Villages\\nNorth Timothyport, NH 11206\", \"amount\": 890315}\n",
      "Offset: 104  Received message: {\"id\": 78792, \"name\": \"Kendra Zimmerman\", \"address\": \"8303 Jennifer Extension Suite 675\\nLunahaven, NC 86908\", \"amount\": 37866}\n",
      "Offset: 105  Received message: {\"id\": 50180, \"name\": \"Anthony Rogers\", \"address\": \"6435 James Ports\\nJeffreychester, DE 94668\", \"amount\": 54116}\n",
      "Offset: 106  Received message: {\"id\": 59099, \"name\": \"Christine Webster\", \"address\": \"3150 Brown Vista Apt. 801\\nCourtneyborough, KS 11777\", \"amount\": 405119}\n",
      "Offset: 107  Received message: {\"id\": 32972, \"name\": \"Brenda Flores\", \"address\": \"64859 Danielle Viaduct Suite 091\\nRileyfort, KS 41645\", \"amount\": 908732}\n",
      "Offset: 108  Received message: {\"id\": 94368, \"name\": \"Laura Brewer\", \"address\": \"5496 Ray Gardens\\nNew Davidview, NH 28324\", \"amount\": 893884}\n",
      "Offset: 109  Received message: {\"id\": 99317, \"name\": \"Matthew Lewis\", \"address\": \"378 Jordan Tunnel\\nKennedyview, AL 74440\", \"amount\": 432706}\n",
      "Offset: 110  Received message: {\"id\": 60623, \"name\": \"Roger Marks\", \"address\": \"01405 Daniel Centers Suite 619\\nRobertfort, IA 73032\", \"amount\": 386111}\n",
      "Offset: 111  Received message: {\"id\": 3152, \"name\": \"Mrs. Candice Harris\", \"address\": \"910 Diana Court\\nSouth Charlesport, CT 20963\", \"amount\": 442793}\n",
      "Offset: 112  Received message: {\"id\": 54200, \"name\": \"Zoe Thomas\", \"address\": \"1979 Rodriguez Cliff\\nCharleschester, MO 84523\", \"amount\": 251446}\n",
      "Offset: 113  Received message: {\"id\": 27848, \"name\": \"Roberto Parker\", \"address\": \"26757 Katie Pine\\nSouth Dustin, DE 69799\", \"amount\": 185500}\n",
      "Offset: 114  Received message: {\"id\": 2069, \"name\": \"Susan Jones\", \"address\": \"1285 Kristina Plains Suite 164\\nNew Lindseybury, OR 11333\", \"amount\": 904561}\n",
      "Offset: 115  Received message: {\"id\": 91444, \"name\": \"Andrea Lee\", \"address\": \"424 Amber Mission Suite 977\\nMartinezborough, GU 53326\", \"amount\": 609792}\n",
      "Offset: 116  Received message: {\"id\": 44800, \"name\": \"Bailey Davis\", \"address\": \"540 Katherine Harbors\\nJuliemouth, PW 35976\", \"amount\": 202362}\n",
      "Offset: 117  Received message: {\"id\": 77336, \"name\": \"Patricia Williams\", \"address\": \"28271 Daniel Course\\nSanchezview, IA 79040\", \"amount\": 732496}\n",
      "Offset: 118  Received message: {\"id\": 92030, \"name\": \"Margaret Contreras\", \"address\": \"3463 Mullen Parks Apt. 692\\nLake Alexandrashire, TN 78814\", \"amount\": 176457}\n",
      "Offset: 119  Received message: {\"id\": 47739, \"name\": \"Karen Newton\", \"address\": \"40502 Jason Hill\\nHendrickstown, MS 10967\", \"amount\": 678650}\n",
      "Offset: 120  Received message: {\"id\": 16652, \"name\": \"Sheila Byrd\", \"address\": \"71152 Ochoa Trace Apt. 188\\nCatherineview, GU 55755\", \"amount\": 239693}\n",
      "Offset: 121  Received message: {\"id\": 85392, \"name\": \"Jessica Hughes\", \"address\": \"7859 Emily Centers\\nRebeccatown, IL 19996\", \"amount\": 730070}\n",
      "Offset: 122  Received message: {\"id\": 60790, \"name\": \"Brad Adams\", \"address\": \"969 Evans Causeway\\nEmilyborough, ID 94128\", \"amount\": 131736}\n",
      "Offset: 123  Received message: {\"id\": 46869, \"name\": \"William Morris\", \"address\": \"Unit 4599 Box 4193\\nDPO AA 43499\", \"amount\": 90383}\n",
      "Offset: 124  Received message: {\"id\": 44473, \"name\": \"Mrs. Kimberly Davis\", \"address\": \"769 Cunningham Drives\\nChristopherport, LA 24132\", \"amount\": 609196}\n",
      "Offset: 125  Received message: {\"id\": 52823, \"name\": \"Kristopher Meyer\", \"address\": \"8018 Torres Ferry Apt. 654\\nReynoldsborough, DE 29552\", \"amount\": 497023}\n",
      "Offset: 126  Received message: {\"id\": 31257, \"name\": \"Brandi Dickson\", \"address\": \"33389 Roger Crest\\nSmithchester, TX 54638\", \"amount\": 903540}\n",
      "Offset: 127  Received message: {\"id\": 32678, \"name\": \"Monica Anderson\", \"address\": \"05133 Scott Street\\nLake Carolynhaven, ND 04436\", \"amount\": 394906}\n",
      "Offset: 128  Received message: {\"id\": 28398, \"name\": \"Christine Brown\", \"address\": \"8603 Alyssa Inlet Suite 988\\nNorth Brianland, OR 96826\", \"amount\": 605350}\n",
      "Offset: 129  Received message: {\"id\": 45562, \"name\": \"Darren Jackson\", \"address\": \"Unit 7850 Box 1035\\nDPO AA 60753\", \"amount\": 416622}\n",
      "Offset: 130  Received message: {\"id\": 57115, \"name\": \"Kathy Hamilton\", \"address\": \"9493 Catherine Unions Apt. 915\\nNew Scott, IN 40286\", \"amount\": 416559}\n",
      "Offset: 131  Received message: {\"id\": 97888, \"name\": \"Taylor Mcdaniel\", \"address\": \"21242 Ashlee Summit Suite 499\\nAndrewhaven, KS 56760\", \"amount\": 591021}\n",
      "Offset: 132  Received message: {\"id\": 75380, \"name\": \"Charles Ruiz\", \"address\": \"2555 Peterson Brooks Suite 322\\nJoshuaport, GA 42509\", \"amount\": 140239}\n",
      "Offset: 133  Received message: {\"id\": 12782, \"name\": \"Kathy Landry\", \"address\": \"65744 Jennifer Glens Apt. 110\\nDonovantown, WA 03234\", \"amount\": 543710}\n",
      "Offset: 134  Received message: {\"id\": 67415, \"name\": \"Donald Harrison\", \"address\": \"86069 Smith Ports\\nRandallside, ID 05442\", \"amount\": 538267}\n",
      "Offset: 135  Received message: {\"id\": 2982, \"name\": \"Stephanie Burch\", \"address\": \"23151 Amanda Throughway\\nLake Joshua, VA 52848\", \"amount\": 969852}\n",
      "Offset: 136  Received message: {\"id\": 91921, \"name\": \"Timothy Cortez\", \"address\": \"303 Wright Mission Suite 600\\nBentonmouth, MP 53419\", \"amount\": 835021}\n",
      "Offset: 137  Received message: {\"id\": 63643, \"name\": \"Daniel Larson\", \"address\": \"87103 Troy Mountain\\nNicholasberg, AR 46214\", \"amount\": 393726}\n",
      "Offset: 138  Received message: {\"id\": 44965, \"name\": \"Christopher Myers\", \"address\": \"4020 Larsen Prairie\\nEast Amandaborough, IL 63981\", \"amount\": 623156}\n",
      "Offset: 139  Received message: {\"id\": 49174, \"name\": \"Gregory Solis\", \"address\": \"3025 Roger Village\\nFletcherberg, TX 88416\", \"amount\": 715777}\n",
      "Offset: 140  Received message: {\"id\": 76166, \"name\": \"Mrs. Nina Martinez DDS\", \"address\": \"0261 Corey Isle Apt. 528\\nShawnburgh, NC 33207\", \"amount\": 361519}\n",
      "Offset: 141  Received message: {\"id\": 46643, \"name\": \"Jessica Shelton\", \"address\": \"6853 Thomas River Apt. 226\\nReidport, OH 39541\", \"amount\": 372234}\n",
      "Offset: 142  Received message: {\"id\": 24320, \"name\": \"James Brown\", \"address\": \"PSC 9454, Box 4596\\nAPO AE 75526\", \"amount\": 211953}\n",
      "Offset: 143  Received message: {\"id\": 11802, \"name\": \"Debbie Gross\", \"address\": \"286 Moon Brook Suite 468\\nLake Becky, WV 56835\", \"amount\": 820426}\n",
      "Offset: 144  Received message: {\"id\": 50854, \"name\": \"Michael Baker\", \"address\": \"65185 Jennifer Mountains Suite 353\\nAlexanderborough, ND 34012\", \"amount\": 824083}\n",
      "Offset: 145  Received message: {\"id\": 87588, \"name\": \"Leslie Morton\", \"address\": \"775 Nicole Plains\\nWest Tanyahaven, NH 89947\", \"amount\": 902293}\n",
      "Offset: 146  Received message: {\"id\": 78839, \"name\": \"Thomas Vasquez\", \"address\": \"0446 Luis Manor\\nPearsonshire, FM 61253\", \"amount\": 885790}\n",
      "Offset: 147  Received message: {\"id\": 12339, \"name\": \"Ashlee Allen\", \"address\": \"5551 Ortiz Coves\\nBarrystad, SD 14085\", \"amount\": 824990}\n",
      "Offset: 148  Received message: {\"id\": 2974, \"name\": \"Bryan Phillips\", \"address\": \"6399 Theodore Ridges Suite 699\\nAdamton, NC 64942\", \"amount\": 903615}\n",
      "Offset: 149  Received message: {\"id\": 73167, \"name\": \"Kathryn Gonzalez\", \"address\": \"5751 Sanchez Row\\nPort Brentberg, WV 93780\", \"amount\": 751342}\n",
      "Offset: 150  Received message: {\"id\": 70645, \"name\": \"Melissa Ross\", \"address\": \"46808 Timothy Estates\\nNorth Jorgemouth, WA 38624\", \"amount\": 948469}\n",
      "Offset: 151  Received message: {\"id\": 37228, \"name\": \"Paige Watts\", \"address\": \"228 Timothy Oval Apt. 223\\nNew Tyler, CO 31367\", \"amount\": 587644}\n",
      "Offset: 152  Received message: {\"id\": 59873, \"name\": \"Michael Logan\", \"address\": \"9287 Ortega Isle\\nBrandonside, IL 84543\", \"amount\": 377381}\n",
      "Offset: 153  Received message: {\"id\": 87377, \"name\": \"Ashley Jimenez\", \"address\": \"Unit 2473 Box 9573\\nDPO AP 82693\", \"amount\": 392239}\n",
      "Offset: 154  Received message: {\"id\": 79258, \"name\": \"Stephanie Hill\", \"address\": \"6758 James Plain\\nJosephport, DC 25333\", \"amount\": 27493}\n",
      "Offset: 155  Received message: {\"id\": 49392, \"name\": \"Christopher Foster\", \"address\": \"564 Christina Springs Suite 530\\nPort Juan, IA 32314\", \"amount\": 640637}\n",
      "Offset: 156  Received message: {\"id\": 77580, \"name\": \"Becky Peters\", \"address\": \"972 Lisa Union Apt. 044\\nPort Rodneymouth, DC 11665\", \"amount\": 894918}\n",
      "Offset: 157  Received message: {\"id\": 36287, \"name\": \"Albert Arias MD\", \"address\": \"Unit 1563 Box 4331\\nDPO AA 26131\", \"amount\": 238317}\n",
      "Offset: 158  Received message: {\"id\": 46817, \"name\": \"Jessica Sullivan\", \"address\": \"PSC 7674, Box 9600\\nAPO AE 04511\", \"amount\": 372857}\n",
      "Offset: 159  Received message: {\"id\": 29149, \"name\": \"Christina Reynolds\", \"address\": \"66732 Savannah Corner\\nNicoleside, SD 95602\", \"amount\": 74749}\n",
      "Offset: 160  Received message: {\"id\": 28012, \"name\": \"Jamie Forbes\", \"address\": \"247 Levy Well\\nChasemouth, ME 32030\", \"amount\": 423783}\n",
      "Offset: 161  Received message: {\"id\": 2040, \"name\": \"Samuel Aguilar\", \"address\": \"02559 Lee Meadows Apt. 895\\nWest Tina, MS 80687\", \"amount\": 311742}\n",
      "Offset: 162  Received message: {\"id\": 47700, \"name\": \"Kayla Bartlett\", \"address\": \"57929 Sanchez Court\\nMeganborough, HI 15797\", \"amount\": 852852}\n",
      "Offset: 163  Received message: {\"id\": 31509, \"name\": \"Nicholas Kelley\", \"address\": \"589 Wendy Walk\\nNorth Greg, CA 53897\", \"amount\": 657678}\n",
      "Offset: 164  Received message: {\"id\": 56490, \"name\": \"Brittany Doyle\", \"address\": \"47916 Robert Burgs Apt. 438\\nSweeneymouth, MA 86128\", \"amount\": 379903}\n",
      "Offset: 165  Received message: {\"id\": 2430, \"name\": \"Samantha Mcgee\", \"address\": \"13323 Thomas Fort Apt. 156\\nSouth Davidbury, AZ 96973\", \"amount\": 464055}\n",
      "Offset: 166  Received message: {\"id\": 85213, \"name\": \"Ronald Anderson\", \"address\": \"319 Ashley Inlet Suite 919\\nJasonfurt, PR 24630\", \"amount\": 678031}\n",
      "Offset: 167  Received message: {\"id\": 18176, \"name\": \"Leah Johnson\", \"address\": \"PSC 8718, Box 0955\\nAPO AA 22127\", \"amount\": 298006}\n",
      "Offset: 168  Received message: {\"id\": 15507, \"name\": \"Patrick Waters\", \"address\": \"80452 Benjamin Corner Apt. 271\\nMatthewtown, CA 45532\", \"amount\": 68213}\n",
      "Offset: 169  Received message: {\"id\": 4630, \"name\": \"Donna Rodriguez\", \"address\": \"800 Matthew Harbors\\nPort Katie, VA 33372\", \"amount\": 65023}\n",
      "Offset: 170  Received message: {\"id\": 21505, \"name\": \"Margaret Morales\", \"address\": \"810 Katherine Meadow\\nPort Gregory, WA 27907\", \"amount\": 536982}\n",
      "Offset: 171  Received message: {\"id\": 3552, \"name\": \"Hannah Long\", \"address\": \"1355 Bean Camp\\nWilliamsborough, NE 66137\", \"amount\": 360224}\n",
      "Offset: 172  Received message: {\"id\": 35673, \"name\": \"Eric Ho DDS\", \"address\": \"Unit 2457 Box 4572\\nDPO AA 01097\", \"amount\": 983927}\n",
      "Offset: 173  Received message: {\"id\": 53253, \"name\": \"Courtney Coleman\", \"address\": \"12751 Ingram Walks Suite 744\\nPattersonport, WY 84390\", \"amount\": 175775}\n",
      "Offset: 174  Received message: {\"id\": 74371, \"name\": \"Jaime Walton\", \"address\": \"70620 Kenneth Road Suite 527\\nLynchbury, WV 43349\", \"amount\": 74172}\n",
      "Offset: 175  Received message: {\"id\": 68148, \"name\": \"Troy Sherman\", \"address\": \"3797 Ruiz Point\\nEast Sarah, PW 99829\", \"amount\": 970907}\n",
      "Offset: 176  Received message: {\"id\": 97216, \"name\": \"Shawn Horn\", \"address\": \"186 Vasquez Parkways\\nPort Martha, MH 87927\", \"amount\": 629612}\n",
      "Offset: 177  Received message: {\"id\": 96588, \"name\": \"Allen Gillespie\", \"address\": \"4074 Mann Harbor\\nFisherside, AZ 33648\", \"amount\": 971917}\n",
      "Offset: 178  Received message: {\"id\": 50700, \"name\": \"Bill Hunt\", \"address\": \"PSC 1166, Box 5755\\nAPO AA 99879\", \"amount\": 538107}\n",
      "Offset: 179  Received message: {\"id\": 97469, \"name\": \"Douglas Hill\", \"address\": \"PSC 3060, Box 4033\\nAPO AE 58231\", \"amount\": 522667}\n",
      "Offset: 180  Received message: {\"id\": 36571, \"name\": \"Ricky Jackson\", \"address\": \"280 Foley Knolls\\nNorth Margaretstad, SC 62450\", \"amount\": 583475}\n",
      "Offset: 181  Received message: {\"id\": 38168, \"name\": \"Kari Roth\", \"address\": \"895 Vargas Square Suite 336\\nWest Vernonmouth, PA 87913\", \"amount\": 8801}\n",
      "Offset: 182  Received message: {\"id\": 85516, \"name\": \"Brent Glass MD\", \"address\": \"70521 Santana Neck Apt. 574\\nJonathanburgh, NY 15437\", \"amount\": 227387}\n",
      "Offset: 183  Received message: {\"id\": 88605, \"name\": \"Allison Quinn\", \"address\": \"94259 Melissa Flat\\nBrittneyborough, AL 15000\", \"amount\": 59028}\n",
      "Offset: 184  Received message: {\"id\": 4718, \"name\": \"Wendy Short\", \"address\": \"4304 Collins Circles\\nWest William, SC 97958\", \"amount\": 957697}\n",
      "Offset: 185  Received message: {\"id\": 12976, \"name\": \"Patricia Allen\", \"address\": \"7988 James Dale\\nMartinshire, CA 43114\", \"amount\": 74249}\n",
      "Offset: 186  Received message: {\"id\": 82931, \"name\": \"Christian Price\", \"address\": \"422 Perez Green\\nPort Christinabury, ND 18250\", \"amount\": 272878}\n",
      "Offset: 187  Received message: {\"id\": 11209, \"name\": \"Gabriel Brown\", \"address\": \"13351 Norris Walk Suite 783\\nThomastown, OR 97070\", \"amount\": 464667}\n",
      "Offset: 188  Received message: {\"id\": 67543, \"name\": \"Summer Brown\", \"address\": \"3066 Sarah Fork Apt. 938\\nPort Brandonland, CA 44566\", \"amount\": 581876}\n",
      "Offset: 189  Received message: {\"id\": 42813, \"name\": \"Sharon Guerra\", \"address\": \"Unit 9531 Box 6701\\nDPO AA 41663\", \"amount\": 120971}\n",
      "Offset: 190  Received message: {\"id\": 60368, \"name\": \"Nicholas Ballard\", \"address\": \"433 Simmons Land\\nCarterstad, TN 12152\", \"amount\": 353177}\n",
      "Offset: 191  Received message: {\"id\": 4738, \"name\": \"Kelly Frederick\", \"address\": \"5587 Rogers Hills\\nBrandonville, MT 54629\", \"amount\": 316485}\n",
      "Offset: 192  Received message: {\"id\": 31622, \"name\": \"Bradley Payne\", \"address\": \"584 Danielle Street\\nMasonshire, MS 54319\", \"amount\": 900046}\n",
      "Offset: 193  Received message: {\"id\": 45448, \"name\": \"Caleb Leonard\", \"address\": \"44433 Brent Meadow\\nWest Dennis, KS 28354\", \"amount\": 881786}\n",
      "Offset: 194  Received message: {\"id\": 53303, \"name\": \"Allison Nielsen\", \"address\": \"1959 Holly Pike Apt. 745\\nPort Richard, AZ 07109\", \"amount\": 239153}\n",
      "Offset: 195  Received message: {\"id\": 10851, \"name\": \"Timothy English\", \"address\": \"90656 Nancy Via Apt. 966\\nNew Allenstad, NJ 62515\", \"amount\": 336032}\n",
      "Offset: 196  Received message: {\"id\": 42734, \"name\": \"Derek Conner\", \"address\": \"20493 Carol Estate Apt. 366\\nLake Lori, VT 14884\", \"amount\": 711358}\n",
      "Offset: 197  Received message: {\"id\": 3839, \"name\": \"Shane Sanchez\", \"address\": \"6845 Marissa Canyon Apt. 372\\nSouth Denisefurt, UT 49946\", \"amount\": 27749}\n",
      "Offset: 198  Received message: {\"id\": 35101, \"name\": \"Jennifer Hall\", \"address\": \"0828 Mark Station\\nContrerasville, UT 73457\", \"amount\": 211543}\n",
      "Offset: 199  Received message: {\"id\": 44979, \"name\": \"Mark Aguilar\", \"address\": \"150 Elliott Mission Suite 335\\nPort Deanna, NJ 22134\", \"amount\": 167888}\n",
      "New Messages consumed: 100\n"
     ]
    }
   ],
   "source": [
    "# CONSUMER\n",
    "print(\"\\n**Starting Consumer**\")\n",
    "consumer = KafkaConsumer(bootstrap_servers=[server],\n",
    "                         auto_offset_reset='earliest',\n",
    "#                        security_protocol='SASL_PLAINTEXT',\n",
    "#                        sasl_mechanism='PLAIN',\n",
    "#                        sasl_plain_username='mapr',\n",
    "#                        sasl_plain_password='mapr'\n",
    "                        )\n",
    "\n",
    "consumer.subscribe(topic)\n",
    "numMsgConsumed = 0\n",
    "\n",
    "for _ in range(10):\n",
    "    records = consumer.poll(timeout_ms=500)\n",
    "    for topic_data, consumer_records in records.items():\n",
    "        for consumer_record in consumer_records:\n",
    "            if(consumer_record.offset > consumer_offset):\n",
    "                print(\"Offset: \" + str(consumer_record.offset) + \"  Received message: \" + consumer_record.value.decode('utf-8'))\n",
    "                fullrecords.append(consumer_record)\n",
    "                datarecords.append(json.loads(consumer_record.value.decode('utf-8')))\n",
    "                consumer_offset = consumer_record.offset\n",
    "                numMsgConsumed += 1\n",
    "            else:\n",
    "                print(\"Offset: \" + str(consumer_record.offset) + \" Already consumed\")\n",
    "print(\"New Messages consumed: \" + str(numMsgConsumed))"
   ]
  },
  {
   "cell_type": "code",
   "execution_count": 21,
   "id": "bf92471e-cf8b-4072-8e3e-058409760127",
   "metadata": {
    "tags": []
   },
   "outputs": [
    {
     "data": {
      "text/plain": [
       "199"
      ]
     },
     "execution_count": 21,
     "metadata": {},
     "output_type": "execute_result"
    }
   ],
   "source": [
    "# check offset is tracked correctly\n",
    "consumer_offset"
   ]
  },
  {
   "cell_type": "code",
   "execution_count": 22,
   "id": "fb54f50e-f3a4-4da8-94c7-0b1a5a18b120",
   "metadata": {
    "tags": []
   },
   "outputs": [],
   "source": [
    "#build pandas data frame from kafka consumer ingested records\n",
    "optable = pa.Table.from_pandas(pd.DataFrame(datarecords))"
   ]
  },
  {
   "cell_type": "code",
   "execution_count": 23,
   "id": "01374cc8-ad33-467c-8253-e7eac837c0b3",
   "metadata": {
    "tags": []
   },
   "outputs": [],
   "source": [
    "uniquestr=tm.datetime.now().strftime(\"%Y-%m-%d-%H-%M\")"
   ]
  },
  {
   "cell_type": "code",
   "execution_count": 24,
   "id": "66b6022d-857e-4a77-90dd-c48c3a528380",
   "metadata": {
    "tags": []
   },
   "outputs": [],
   "source": [
    "pq.write_table(optable,\"/mnt/shared/ingest1/source1/kafkaingest1\"+uniquestr+\".parquet\")"
   ]
  },
  {
   "cell_type": "code",
   "execution_count": null,
   "id": "3d139bed-a06a-4d9f-9923-42dee3b8aad4",
   "metadata": {},
   "outputs": [],
   "source": []
  }
 ],
 "metadata": {
  "kernelspec": {
   "display_name": "Python 3 (ipykernel)",
   "language": "python",
   "name": "python3"
  },
  "language_info": {
   "codemirror_mode": {
    "name": "ipython",
    "version": 3
   },
   "file_extension": ".py",
   "mimetype": "text/x-python",
   "name": "python",
   "nbconvert_exporter": "python",
   "pygments_lexer": "ipython3",
   "version": "3.11.6"
  }
 },
 "nbformat": 4,
 "nbformat_minor": 5
}
